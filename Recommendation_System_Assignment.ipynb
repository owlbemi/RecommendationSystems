{
  "cells": [
    {
      "cell_type": "markdown",
      "metadata": {
        "id": "view-in-github",
        "colab_type": "text"
      },
      "source": [
        "<a href=\"https://colab.research.google.com/github/owlbemi/RecommendationSystems/blob/main/Recommendation_System_Assignment.ipynb\" target=\"_parent\"><img src=\"https://colab.research.google.com/assets/colab-badge.svg\" alt=\"Open In Colab\"/></a>"
      ]
    },
    {
      "cell_type": "markdown",
      "source": [
        "## Jake Lee (jxl180111)"
      ],
      "metadata": {
        "id": "MpfiXu9MjQOb"
      }
    },
    {
      "cell_type": "markdown",
      "metadata": {
        "id": "UNf2dAQQNnZO"
      },
      "source": [
        "# Recommendation Systems\n",
        "We will use the surprise library of Python. Details are available at: http://surpriselib.com\n",
        "\n",
        "We will first work through an example using a built-in dataset and then use a custom one.\n",
        "\n",
        "First, ensure that you have the library installed and then load the required packages."
      ]
    },
    {
      "cell_type": "code",
      "execution_count": null,
      "metadata": {
        "colab": {
          "base_uri": "https://localhost:8080/"
        },
        "id": "gvbeyqcHNgjl",
        "outputId": "b38d38c7-f897-475a-8db0-37d613cc518f"
      },
      "outputs": [
        {
          "output_type": "stream",
          "name": "stdout",
          "text": [
            "Requirement already satisfied: scikit-surprise in /usr/local/lib/python3.10/dist-packages (1.1.4)\n",
            "Requirement already satisfied: joblib>=1.2.0 in /usr/local/lib/python3.10/dist-packages (from scikit-surprise) (1.4.2)\n",
            "Requirement already satisfied: numpy>=1.19.5 in /usr/local/lib/python3.10/dist-packages (from scikit-surprise) (1.26.4)\n",
            "Requirement already satisfied: scipy>=1.6.0 in /usr/local/lib/python3.10/dist-packages (from scikit-surprise) (1.13.1)\n"
          ]
        }
      ],
      "source": [
        "!pip install scikit-surprise"
      ]
    },
    {
      "cell_type": "code",
      "execution_count": null,
      "metadata": {
        "id": "H-vnJ02aOa9S"
      },
      "outputs": [],
      "source": [
        "import io\n",
        "\n",
        "import numpy as np\n",
        "import pandas as pd\n",
        "from surprise import NormalPredictor\n",
        "from surprise import Dataset\n",
        "from surprise import Reader\n",
        "from surprise.model_selection import cross_validate\n",
        "from surprise import KNNBaseline\n",
        "from surprise import Dataset\n",
        "from surprise import get_dataset_dir\n",
        "from surprise import accuracy\n",
        "from surprise.model_selection import KFold"
      ]
    },
    {
      "cell_type": "markdown",
      "metadata": {
        "id": "39SWtmcqOpuq"
      },
      "source": [
        "For a recommendation system, we require a file containing at least 3 things - userId, itemId, and rating. Any other information is not needed, but can be good for human analysis of results.\n",
        "\n",
        "Let's load the built in ml-100k dataset that contains movies and ratings."
      ]
    },
    {
      "cell_type": "code",
      "execution_count": null,
      "metadata": {
        "id": "GZd8BnboOmse"
      },
      "outputs": [],
      "source": [
        "# Load the movielens-100k dataset (download it if needed),\n",
        "data = Dataset.load_builtin('ml-100k')"
      ]
    },
    {
      "cell_type": "code",
      "execution_count": null,
      "metadata": {
        "id": "Z0kJP7rEPHYn",
        "colab": {
          "base_uri": "https://localhost:8080/"
        },
        "outputId": "a1978e8a-56e9-4f84-d916-c4598c7ab9d2"
      },
      "outputs": [
        {
          "output_type": "stream",
          "name": "stdout",
          "text": [
            "allbut.pl  u1.base  u2.test  u4.base  u5.test  ub.base\tu.genre  u.occupation\n",
            "mku.sh\t   u1.test  u3.base  u4.test  ua.base  ub.test\tu.info\t u.user\n",
            "README\t   u2.base  u3.test  u5.base  ua.test  u.data\tu.item\n"
          ]
        }
      ],
      "source": [
        "# Let's see what files come with the dataset\n",
        "!ls /root/.surprise_data/ml-100k/ml-100k/"
      ]
    },
    {
      "cell_type": "code",
      "execution_count": null,
      "metadata": {
        "id": "62q26F3SPvft",
        "colab": {
          "base_uri": "https://localhost:8080/"
        },
        "outputId": "006d1dc5-2783-4076-ff86-4c40f3a44d08"
      },
      "outputs": [
        {
          "output_type": "stream",
          "name": "stdout",
          "text": [
            "196\t242\t3\t881250949\n",
            "186\t302\t3\t891717742\n",
            "22\t377\t1\t878887116\n",
            "244\t51\t2\t880606923\n",
            "166\t346\t1\t886397596\n",
            "298\t474\t4\t884182806\n",
            "115\t265\t2\t881171488\n",
            "253\t465\t5\t891628467\n",
            "305\t451\t3\t886324817\n",
            "6\t86\t3\t883603013\n"
          ]
        }
      ],
      "source": [
        "# TODO: Show the first 10 lines of the u.data, and u.item files\n",
        "!head -10 /root/.surprise_data/ml-100k/ml-100k/u.data"
      ]
    },
    {
      "cell_type": "markdown",
      "metadata": {
        "id": "GaB5-nihRtuS"
      },
      "source": [
        "## Algorithms\n",
        "Let's look at some of the algorithms available with the package"
      ]
    },
    {
      "cell_type": "code",
      "execution_count": null,
      "metadata": {
        "id": "lBJ1MkWyRswn"
      },
      "outputs": [],
      "source": [
        "?KNNBaseline"
      ]
    },
    {
      "cell_type": "markdown",
      "metadata": {
        "id": "Bp2R7SCxSbcy"
      },
      "source": [
        "The nearest neighbor methods works by searching for neighbors using the utility matrix. Let's create a nearest neighbor first by item and user"
      ]
    },
    {
      "cell_type": "code",
      "execution_count": null,
      "metadata": {
        "id": "HSiyKhGVP78C",
        "colab": {
          "base_uri": "https://localhost:8080/"
        },
        "outputId": "c77013af-ed17-4182-d772-152a21f60944"
      },
      "outputs": [
        {
          "output_type": "stream",
          "name": "stdout",
          "text": [
            "Estimating biases using als...\n",
            "Computing the pearson_baseline similarity matrix...\n",
            "Done computing similarity matrix.\n"
          ]
        },
        {
          "output_type": "execute_result",
          "data": {
            "text/plain": [
              "<surprise.prediction_algorithms.knns.KNNBaseline at 0x7c56cee60ac0>"
            ]
          },
          "metadata": {},
          "execution_count": 56
        }
      ],
      "source": [
        "data = Dataset.load_builtin('ml-100k')\n",
        "trainset = data.build_full_trainset()\n",
        "# we are going to use item-item similarity\n",
        "sim_options = {'name': 'pearson_baseline', 'user_based': False}\n",
        "algo = KNNBaseline(sim_options=sim_options)\n",
        "algo.fit(trainset)"
      ]
    },
    {
      "cell_type": "code",
      "execution_count": null,
      "metadata": {
        "id": "Ilbee2N1TV4H",
        "colab": {
          "base_uri": "https://localhost:8080/"
        },
        "outputId": "8c3ff314-dcf1-4969-e742-93714114ffe8"
      },
      "outputs": [
        {
          "output_type": "stream",
          "name": "stdout",
          "text": [
            "1|Toy Story (1995)|01-Jan-1995||http://us.imdb.com/M/title-exact?Toy%20Story%20(1995)|0|0|0|1|1|1|0|0|0|0|0|0|0|0|0|0|0|0|0\n",
            "2|GoldenEye (1995)|01-Jan-1995||http://us.imdb.com/M/title-exact?GoldenEye%20(1995)|0|1|1|0|0|0|0|0|0|0|0|0|0|0|0|0|1|0|0\n",
            "3|Four Rooms (1995)|01-Jan-1995||http://us.imdb.com/M/title-exact?Four%20Rooms%20(1995)|0|0|0|0|0|0|0|0|0|0|0|0|0|0|0|0|1|0|0\n",
            "4|Get Shorty (1995)|01-Jan-1995||http://us.imdb.com/M/title-exact?Get%20Shorty%20(1995)|0|1|0|0|0|1|0|0|1|0|0|0|0|0|0|0|0|0|0\n",
            "5|Copycat (1995)|01-Jan-1995||http://us.imdb.com/M/title-exact?Copycat%20(1995)|0|0|0|0|0|0|1|0|1|0|0|0|0|0|0|0|1|0|0\n",
            "6|Shanghai Triad (Yao a yao yao dao waipo qiao) (1995)|01-Jan-1995||http://us.imdb.com/Title?Yao+a+yao+yao+dao+waipo+qiao+(1995)|0|0|0|0|0|0|0|0|1|0|0|0|0|0|0|0|0|0|0\n",
            "7|Twelve Monkeys (1995)|01-Jan-1995||http://us.imdb.com/M/title-exact?Twelve%20Monkeys%20(1995)|0|0|0|0|0|0|0|0|1|0|0|0|0|0|0|1|0|0|0\n",
            "8|Babe (1995)|01-Jan-1995||http://us.imdb.com/M/title-exact?Babe%20(1995)|0|0|0|0|1|1|0|0|1|0|0|0|0|0|0|0|0|0|0\n",
            "9|Dead Man Walking (1995)|01-Jan-1995||http://us.imdb.com/M/title-exact?Dead%20Man%20Walking%20(1995)|0|0|0|0|0|0|0|0|1|0|0|0|0|0|0|0|0|0|0\n",
            "10|Richard III (1995)|22-Jan-1996||http://us.imdb.com/M/title-exact?Richard%20III%20(1995)|0|0|0|0|0|0|0|0|1|0|0|0|0|0|0|0|0|1|0\n"
          ]
        }
      ],
      "source": [
        "!head -10 /root/.surprise_data/ml-100k/ml-100k/u.item"
      ]
    },
    {
      "cell_type": "markdown",
      "metadata": {
        "id": "QDqZoURXW-kX"
      },
      "source": [
        "# Id to Name Lookup\n",
        "Let's write a small method that will convert id to name, and name to id"
      ]
    },
    {
      "cell_type": "code",
      "execution_count": null,
      "metadata": {
        "id": "eOnbUClBTKlf"
      },
      "outputs": [],
      "source": [
        "def read_item_names():\n",
        "    \"\"\"Read the u.item file from MovieLens 100-k dataset and return two\n",
        "    mappings to convert raw ids into movie names and movie names into raw ids.\n",
        "    \"\"\"\n",
        "\n",
        "    file_name = get_dataset_dir() + '/ml-100k/ml-100k/u.item'\n",
        "    rid_to_name = {}\n",
        "    name_to_rid = {}\n",
        "    with io.open(file_name, 'r', encoding='ISO-8859-1') as f:\n",
        "        for line in f:\n",
        "            line = line.split('|')\n",
        "            rid_to_name[line[0]] = line[1]\n",
        "            name_to_rid[line[1]] = line[0]\n",
        "\n",
        "    return rid_to_name, name_to_rid"
      ]
    },
    {
      "cell_type": "code",
      "execution_count": null,
      "metadata": {
        "id": "r8vv_EKmUiIi"
      },
      "outputs": [],
      "source": [
        "# test this function\n",
        "rid_to_name, name_to_rid = read_item_names()"
      ]
    },
    {
      "cell_type": "code",
      "execution_count": null,
      "metadata": {
        "id": "ApUrTtaKWvhR",
        "colab": {
          "base_uri": "https://localhost:8080/",
          "height": 36
        },
        "outputId": "2ce5db1c-d0a1-487a-f45f-7b21c0c95d20"
      },
      "outputs": [
        {
          "output_type": "execute_result",
          "data": {
            "text/plain": [
              "'Toy Story (1995)'"
            ],
            "application/vnd.google.colaboratory.intrinsic+json": {
              "type": "string"
            }
          },
          "metadata": {},
          "execution_count": 60
        }
      ],
      "source": [
        "rid_to_name[\"1\"]"
      ]
    },
    {
      "cell_type": "code",
      "execution_count": null,
      "metadata": {
        "id": "5Pl5szE0WynN",
        "colab": {
          "base_uri": "https://localhost:8080/",
          "height": 36
        },
        "outputId": "2420ec22-81b0-41d4-8291-6626101d6e21"
      },
      "outputs": [
        {
          "output_type": "execute_result",
          "data": {
            "text/plain": [
              "'7'"
            ],
            "application/vnd.google.colaboratory.intrinsic+json": {
              "type": "string"
            }
          },
          "metadata": {},
          "execution_count": 61
        }
      ],
      "source": [
        "name_to_rid[\"Twelve Monkeys (1995)\"]"
      ]
    },
    {
      "cell_type": "code",
      "execution_count": null,
      "metadata": {
        "id": "m1KEIIY2Xjas",
        "colab": {
          "base_uri": "https://localhost:8080/"
        },
        "outputId": "ee711ece-75f0-4d00-be03-265ebd1960d4"
      },
      "outputs": [
        {
          "output_type": "stream",
          "name": "stdout",
          "text": [
            "\n",
            "The 10 nearest neighbors of Shining, The (1980)\n",
            "Bonnie and Clyde (1967)\n",
            "Godfather: Part II, The (1974)\n",
            "Alien (1979)\n",
            "Godfather, The (1972)\n",
            "Raging Bull (1980)\n",
            "Pulp Fiction (1994)\n",
            "One Flew Over the Cuckoo's Nest (1975)\n",
            "Carrie (1976)\n",
            "Koyaanisqatsi (1983)\n",
            "His Girl Friday (1940)\n"
          ]
        }
      ],
      "source": [
        "# Find top 10 movies similar to movie with id 100\n",
        "\n",
        "movie_inner_id = algo.trainset.to_inner_iid(\"200\")\n",
        "movie_name = rid_to_name[\"200\"]\n",
        "\n",
        "# Retrieve inner ids of the nearest neighbors of Toy Story.\n",
        "movie_neighbors = algo.get_neighbors(movie_inner_id, k=10)\n",
        "\n",
        "# Convert inner ids of the neighbors into names.\n",
        "movie_neighbors = (algo.trainset.to_raw_iid(inner_id)\n",
        "                       for inner_id in movie_neighbors)\n",
        "movie_neighbors = (rid_to_name[rid]\n",
        "                       for rid in movie_neighbors)\n",
        "\n",
        "print()\n",
        "\n",
        "print('The 10 nearest neighbors of ' + movie_name)\n",
        "for movie in movie_neighbors:\n",
        "    print(movie)"
      ]
    },
    {
      "cell_type": "markdown",
      "metadata": {
        "id": "-kcnxpDaZTxL"
      },
      "source": [
        "Let's now apply the algorithm and figure out it's accuracy"
      ]
    },
    {
      "cell_type": "code",
      "execution_count": null,
      "metadata": {
        "id": "USd7X5jZX7pX",
        "colab": {
          "base_uri": "https://localhost:8080/"
        },
        "outputId": "4881f1f5-8482-4de6-f07b-36fc83b6d741"
      },
      "outputs": [
        {
          "output_type": "stream",
          "name": "stdout",
          "text": [
            "RMSE: 0.4807\n"
          ]
        },
        {
          "output_type": "execute_result",
          "data": {
            "text/plain": [
              "0.48071109787164656"
            ]
          },
          "metadata": {},
          "execution_count": 63
        }
      ],
      "source": [
        "testset = trainset.build_testset()\n",
        "predictions = algo.test(testset)\n",
        "# RMSE should be low as we are biased\n",
        "accuracy.rmse(predictions, verbose=True)  # ~ 0.68 (which is low)"
      ]
    },
    {
      "cell_type": "markdown",
      "metadata": {
        "id": "ASSc6E5waLOl"
      },
      "source": [
        "Now, let's also try some baseline methods. Follow the code available here:\n",
        "\n",
        "https://github.com/NicolasHug/Surprise/blob/fa7455880192383f01475162b4cbd310d91d29ca/examples/baselines_conf.py"
      ]
    },
    {
      "cell_type": "markdown",
      "metadata": {
        "id": "TwYMS8igapJy"
      },
      "source": [
        "For more elaborate testing and validation, follow steps mentioned here\n",
        "https://github.com/NicolasHug/Surprise/blob/fa7455880192383f01475162b4cbd310d91d29ca/examples/grid_search_usage.py"
      ]
    },
    {
      "cell_type": "markdown",
      "metadata": {
        "id": "NIywdaaWa4t8"
      },
      "source": [
        "# Assignment\n",
        "\n",
        "In this part, you will use the dataset that is provided along with the following Kaggle competition\n",
        "\n",
        "https://www.kaggle.com/arashnic/book-recommendation-dataset\n",
        "\n",
        "\n",
        "I have uploaded the files for you at\n",
        "\n",
        "Ratings file - https://an-utd-course.s3.us-west-1.amazonaws.com/CompDS/Ratings.csv\n",
        "\n",
        "Books file - https://an-utd-course.s3.us-west-1.amazonaws.com/CompDS/Books.csv\n",
        "\n",
        "\n",
        "Follow the steps below to create a recommendation system from this data"
      ]
    },
    {
      "cell_type": "code",
      "execution_count": null,
      "metadata": {
        "id": "8fFRYXmGrXOX",
        "colab": {
          "base_uri": "https://localhost:8080/"
        },
        "outputId": "95926e77-ccd2-4302-8146-84f828e0f4fb"
      },
      "outputs": [
        {
          "output_type": "stream",
          "name": "stderr",
          "text": [
            "<ipython-input-64-bf2b102aeab5>:4: DtypeWarning: Columns (3) have mixed types. Specify dtype option on import or set low_memory=False.\n",
            "  books = pd.read_csv(\"https://an-utd-course.s3.us-west-1.amazonaws.com/CompDS/Books.csv\")\n"
          ]
        }
      ],
      "source": [
        "# TODO: Read both the data files into Pandas dataframes\n",
        "import pandas as pd\n",
        "ratings = pd.read_csv(\"https://an-utd-course.s3.us-west-1.amazonaws.com/CompDS/Ratings.csv\")\n",
        "books = pd.read_csv(\"https://an-utd-course.s3.us-west-1.amazonaws.com/CompDS/Books.csv\")"
      ]
    },
    {
      "cell_type": "code",
      "source": [
        "ratings.head()"
      ],
      "metadata": {
        "colab": {
          "base_uri": "https://localhost:8080/",
          "height": 206
        },
        "id": "PEWob5X2ZsFl",
        "outputId": "47d3b7e5-3752-43a5-91d0-526adf0084d9"
      },
      "execution_count": null,
      "outputs": [
        {
          "output_type": "execute_result",
          "data": {
            "text/plain": [
              "   User-ID        ISBN  Book-Rating\n",
              "0   276725  034545104X            0\n",
              "1   276726  0155061224            5\n",
              "2   276727  0446520802            0\n",
              "3   276729  052165615X            3\n",
              "4   276729  0521795028            6"
            ],
            "text/html": [
              "\n",
              "  <div id=\"df-01b93955-15ed-43d5-9271-53a8aebb7dd4\" class=\"colab-df-container\">\n",
              "    <div>\n",
              "<style scoped>\n",
              "    .dataframe tbody tr th:only-of-type {\n",
              "        vertical-align: middle;\n",
              "    }\n",
              "\n",
              "    .dataframe tbody tr th {\n",
              "        vertical-align: top;\n",
              "    }\n",
              "\n",
              "    .dataframe thead th {\n",
              "        text-align: right;\n",
              "    }\n",
              "</style>\n",
              "<table border=\"1\" class=\"dataframe\">\n",
              "  <thead>\n",
              "    <tr style=\"text-align: right;\">\n",
              "      <th></th>\n",
              "      <th>User-ID</th>\n",
              "      <th>ISBN</th>\n",
              "      <th>Book-Rating</th>\n",
              "    </tr>\n",
              "  </thead>\n",
              "  <tbody>\n",
              "    <tr>\n",
              "      <th>0</th>\n",
              "      <td>276725</td>\n",
              "      <td>034545104X</td>\n",
              "      <td>0</td>\n",
              "    </tr>\n",
              "    <tr>\n",
              "      <th>1</th>\n",
              "      <td>276726</td>\n",
              "      <td>0155061224</td>\n",
              "      <td>5</td>\n",
              "    </tr>\n",
              "    <tr>\n",
              "      <th>2</th>\n",
              "      <td>276727</td>\n",
              "      <td>0446520802</td>\n",
              "      <td>0</td>\n",
              "    </tr>\n",
              "    <tr>\n",
              "      <th>3</th>\n",
              "      <td>276729</td>\n",
              "      <td>052165615X</td>\n",
              "      <td>3</td>\n",
              "    </tr>\n",
              "    <tr>\n",
              "      <th>4</th>\n",
              "      <td>276729</td>\n",
              "      <td>0521795028</td>\n",
              "      <td>6</td>\n",
              "    </tr>\n",
              "  </tbody>\n",
              "</table>\n",
              "</div>\n",
              "    <div class=\"colab-df-buttons\">\n",
              "\n",
              "  <div class=\"colab-df-container\">\n",
              "    <button class=\"colab-df-convert\" onclick=\"convertToInteractive('df-01b93955-15ed-43d5-9271-53a8aebb7dd4')\"\n",
              "            title=\"Convert this dataframe to an interactive table.\"\n",
              "            style=\"display:none;\">\n",
              "\n",
              "  <svg xmlns=\"http://www.w3.org/2000/svg\" height=\"24px\" viewBox=\"0 -960 960 960\">\n",
              "    <path d=\"M120-120v-720h720v720H120Zm60-500h600v-160H180v160Zm220 220h160v-160H400v160Zm0 220h160v-160H400v160ZM180-400h160v-160H180v160Zm440 0h160v-160H620v160ZM180-180h160v-160H180v160Zm440 0h160v-160H620v160Z\"/>\n",
              "  </svg>\n",
              "    </button>\n",
              "\n",
              "  <style>\n",
              "    .colab-df-container {\n",
              "      display:flex;\n",
              "      gap: 12px;\n",
              "    }\n",
              "\n",
              "    .colab-df-convert {\n",
              "      background-color: #E8F0FE;\n",
              "      border: none;\n",
              "      border-radius: 50%;\n",
              "      cursor: pointer;\n",
              "      display: none;\n",
              "      fill: #1967D2;\n",
              "      height: 32px;\n",
              "      padding: 0 0 0 0;\n",
              "      width: 32px;\n",
              "    }\n",
              "\n",
              "    .colab-df-convert:hover {\n",
              "      background-color: #E2EBFA;\n",
              "      box-shadow: 0px 1px 2px rgba(60, 64, 67, 0.3), 0px 1px 3px 1px rgba(60, 64, 67, 0.15);\n",
              "      fill: #174EA6;\n",
              "    }\n",
              "\n",
              "    .colab-df-buttons div {\n",
              "      margin-bottom: 4px;\n",
              "    }\n",
              "\n",
              "    [theme=dark] .colab-df-convert {\n",
              "      background-color: #3B4455;\n",
              "      fill: #D2E3FC;\n",
              "    }\n",
              "\n",
              "    [theme=dark] .colab-df-convert:hover {\n",
              "      background-color: #434B5C;\n",
              "      box-shadow: 0px 1px 3px 1px rgba(0, 0, 0, 0.15);\n",
              "      filter: drop-shadow(0px 1px 2px rgba(0, 0, 0, 0.3));\n",
              "      fill: #FFFFFF;\n",
              "    }\n",
              "  </style>\n",
              "\n",
              "    <script>\n",
              "      const buttonEl =\n",
              "        document.querySelector('#df-01b93955-15ed-43d5-9271-53a8aebb7dd4 button.colab-df-convert');\n",
              "      buttonEl.style.display =\n",
              "        google.colab.kernel.accessAllowed ? 'block' : 'none';\n",
              "\n",
              "      async function convertToInteractive(key) {\n",
              "        const element = document.querySelector('#df-01b93955-15ed-43d5-9271-53a8aebb7dd4');\n",
              "        const dataTable =\n",
              "          await google.colab.kernel.invokeFunction('convertToInteractive',\n",
              "                                                    [key], {});\n",
              "        if (!dataTable) return;\n",
              "\n",
              "        const docLinkHtml = 'Like what you see? Visit the ' +\n",
              "          '<a target=\"_blank\" href=https://colab.research.google.com/notebooks/data_table.ipynb>data table notebook</a>'\n",
              "          + ' to learn more about interactive tables.';\n",
              "        element.innerHTML = '';\n",
              "        dataTable['output_type'] = 'display_data';\n",
              "        await google.colab.output.renderOutput(dataTable, element);\n",
              "        const docLink = document.createElement('div');\n",
              "        docLink.innerHTML = docLinkHtml;\n",
              "        element.appendChild(docLink);\n",
              "      }\n",
              "    </script>\n",
              "  </div>\n",
              "\n",
              "\n",
              "<div id=\"df-a86fa983-5b2c-44fb-a463-489eb631db60\">\n",
              "  <button class=\"colab-df-quickchart\" onclick=\"quickchart('df-a86fa983-5b2c-44fb-a463-489eb631db60')\"\n",
              "            title=\"Suggest charts\"\n",
              "            style=\"display:none;\">\n",
              "\n",
              "<svg xmlns=\"http://www.w3.org/2000/svg\" height=\"24px\"viewBox=\"0 0 24 24\"\n",
              "     width=\"24px\">\n",
              "    <g>\n",
              "        <path d=\"M19 3H5c-1.1 0-2 .9-2 2v14c0 1.1.9 2 2 2h14c1.1 0 2-.9 2-2V5c0-1.1-.9-2-2-2zM9 17H7v-7h2v7zm4 0h-2V7h2v10zm4 0h-2v-4h2v4z\"/>\n",
              "    </g>\n",
              "</svg>\n",
              "  </button>\n",
              "\n",
              "<style>\n",
              "  .colab-df-quickchart {\n",
              "      --bg-color: #E8F0FE;\n",
              "      --fill-color: #1967D2;\n",
              "      --hover-bg-color: #E2EBFA;\n",
              "      --hover-fill-color: #174EA6;\n",
              "      --disabled-fill-color: #AAA;\n",
              "      --disabled-bg-color: #DDD;\n",
              "  }\n",
              "\n",
              "  [theme=dark] .colab-df-quickchart {\n",
              "      --bg-color: #3B4455;\n",
              "      --fill-color: #D2E3FC;\n",
              "      --hover-bg-color: #434B5C;\n",
              "      --hover-fill-color: #FFFFFF;\n",
              "      --disabled-bg-color: #3B4455;\n",
              "      --disabled-fill-color: #666;\n",
              "  }\n",
              "\n",
              "  .colab-df-quickchart {\n",
              "    background-color: var(--bg-color);\n",
              "    border: none;\n",
              "    border-radius: 50%;\n",
              "    cursor: pointer;\n",
              "    display: none;\n",
              "    fill: var(--fill-color);\n",
              "    height: 32px;\n",
              "    padding: 0;\n",
              "    width: 32px;\n",
              "  }\n",
              "\n",
              "  .colab-df-quickchart:hover {\n",
              "    background-color: var(--hover-bg-color);\n",
              "    box-shadow: 0 1px 2px rgba(60, 64, 67, 0.3), 0 1px 3px 1px rgba(60, 64, 67, 0.15);\n",
              "    fill: var(--button-hover-fill-color);\n",
              "  }\n",
              "\n",
              "  .colab-df-quickchart-complete:disabled,\n",
              "  .colab-df-quickchart-complete:disabled:hover {\n",
              "    background-color: var(--disabled-bg-color);\n",
              "    fill: var(--disabled-fill-color);\n",
              "    box-shadow: none;\n",
              "  }\n",
              "\n",
              "  .colab-df-spinner {\n",
              "    border: 2px solid var(--fill-color);\n",
              "    border-color: transparent;\n",
              "    border-bottom-color: var(--fill-color);\n",
              "    animation:\n",
              "      spin 1s steps(1) infinite;\n",
              "  }\n",
              "\n",
              "  @keyframes spin {\n",
              "    0% {\n",
              "      border-color: transparent;\n",
              "      border-bottom-color: var(--fill-color);\n",
              "      border-left-color: var(--fill-color);\n",
              "    }\n",
              "    20% {\n",
              "      border-color: transparent;\n",
              "      border-left-color: var(--fill-color);\n",
              "      border-top-color: var(--fill-color);\n",
              "    }\n",
              "    30% {\n",
              "      border-color: transparent;\n",
              "      border-left-color: var(--fill-color);\n",
              "      border-top-color: var(--fill-color);\n",
              "      border-right-color: var(--fill-color);\n",
              "    }\n",
              "    40% {\n",
              "      border-color: transparent;\n",
              "      border-right-color: var(--fill-color);\n",
              "      border-top-color: var(--fill-color);\n",
              "    }\n",
              "    60% {\n",
              "      border-color: transparent;\n",
              "      border-right-color: var(--fill-color);\n",
              "    }\n",
              "    80% {\n",
              "      border-color: transparent;\n",
              "      border-right-color: var(--fill-color);\n",
              "      border-bottom-color: var(--fill-color);\n",
              "    }\n",
              "    90% {\n",
              "      border-color: transparent;\n",
              "      border-bottom-color: var(--fill-color);\n",
              "    }\n",
              "  }\n",
              "</style>\n",
              "\n",
              "  <script>\n",
              "    async function quickchart(key) {\n",
              "      const quickchartButtonEl =\n",
              "        document.querySelector('#' + key + ' button');\n",
              "      quickchartButtonEl.disabled = true;  // To prevent multiple clicks.\n",
              "      quickchartButtonEl.classList.add('colab-df-spinner');\n",
              "      try {\n",
              "        const charts = await google.colab.kernel.invokeFunction(\n",
              "            'suggestCharts', [key], {});\n",
              "      } catch (error) {\n",
              "        console.error('Error during call to suggestCharts:', error);\n",
              "      }\n",
              "      quickchartButtonEl.classList.remove('colab-df-spinner');\n",
              "      quickchartButtonEl.classList.add('colab-df-quickchart-complete');\n",
              "    }\n",
              "    (() => {\n",
              "      let quickchartButtonEl =\n",
              "        document.querySelector('#df-a86fa983-5b2c-44fb-a463-489eb631db60 button');\n",
              "      quickchartButtonEl.style.display =\n",
              "        google.colab.kernel.accessAllowed ? 'block' : 'none';\n",
              "    })();\n",
              "  </script>\n",
              "</div>\n",
              "\n",
              "    </div>\n",
              "  </div>\n"
            ],
            "application/vnd.google.colaboratory.intrinsic+json": {
              "type": "dataframe",
              "variable_name": "ratings"
            }
          },
          "metadata": {},
          "execution_count": 65
        }
      ]
    },
    {
      "cell_type": "code",
      "source": [
        "books.head()"
      ],
      "metadata": {
        "colab": {
          "base_uri": "https://localhost:8080/",
          "height": 434
        },
        "id": "lqePHFOLZwmY",
        "outputId": "04f51b30-a448-4995-9774-e3c97451bdb6"
      },
      "execution_count": null,
      "outputs": [
        {
          "output_type": "execute_result",
          "data": {
            "text/plain": [
              "         ISBN                                         Book-Title  \\\n",
              "0  0195153448                                Classical Mythology   \n",
              "1  0002005018                                       Clara Callan   \n",
              "2  0060973129                               Decision in Normandy   \n",
              "3  0374157065  Flu: The Story of the Great Influenza Pandemic...   \n",
              "4  0393045218                             The Mummies of Urumchi   \n",
              "\n",
              "            Book-Author Year-Of-Publication                   Publisher  \\\n",
              "0    Mark P. O. Morford                2002     Oxford University Press   \n",
              "1  Richard Bruce Wright                2001       HarperFlamingo Canada   \n",
              "2          Carlo D'Este                1991             HarperPerennial   \n",
              "3      Gina Bari Kolata                1999        Farrar Straus Giroux   \n",
              "4       E. J. W. Barber                1999  W. W. Norton &amp; Company   \n",
              "\n",
              "                                         Image-URL-S  \\\n",
              "0  http://images.amazon.com/images/P/0195153448.0...   \n",
              "1  http://images.amazon.com/images/P/0002005018.0...   \n",
              "2  http://images.amazon.com/images/P/0060973129.0...   \n",
              "3  http://images.amazon.com/images/P/0374157065.0...   \n",
              "4  http://images.amazon.com/images/P/0393045218.0...   \n",
              "\n",
              "                                         Image-URL-M  \\\n",
              "0  http://images.amazon.com/images/P/0195153448.0...   \n",
              "1  http://images.amazon.com/images/P/0002005018.0...   \n",
              "2  http://images.amazon.com/images/P/0060973129.0...   \n",
              "3  http://images.amazon.com/images/P/0374157065.0...   \n",
              "4  http://images.amazon.com/images/P/0393045218.0...   \n",
              "\n",
              "                                         Image-URL-L  \n",
              "0  http://images.amazon.com/images/P/0195153448.0...  \n",
              "1  http://images.amazon.com/images/P/0002005018.0...  \n",
              "2  http://images.amazon.com/images/P/0060973129.0...  \n",
              "3  http://images.amazon.com/images/P/0374157065.0...  \n",
              "4  http://images.amazon.com/images/P/0393045218.0...  "
            ],
            "text/html": [
              "\n",
              "  <div id=\"df-bf73c101-8bc4-4f76-a9f5-9ab1877aecae\" class=\"colab-df-container\">\n",
              "    <div>\n",
              "<style scoped>\n",
              "    .dataframe tbody tr th:only-of-type {\n",
              "        vertical-align: middle;\n",
              "    }\n",
              "\n",
              "    .dataframe tbody tr th {\n",
              "        vertical-align: top;\n",
              "    }\n",
              "\n",
              "    .dataframe thead th {\n",
              "        text-align: right;\n",
              "    }\n",
              "</style>\n",
              "<table border=\"1\" class=\"dataframe\">\n",
              "  <thead>\n",
              "    <tr style=\"text-align: right;\">\n",
              "      <th></th>\n",
              "      <th>ISBN</th>\n",
              "      <th>Book-Title</th>\n",
              "      <th>Book-Author</th>\n",
              "      <th>Year-Of-Publication</th>\n",
              "      <th>Publisher</th>\n",
              "      <th>Image-URL-S</th>\n",
              "      <th>Image-URL-M</th>\n",
              "      <th>Image-URL-L</th>\n",
              "    </tr>\n",
              "  </thead>\n",
              "  <tbody>\n",
              "    <tr>\n",
              "      <th>0</th>\n",
              "      <td>0195153448</td>\n",
              "      <td>Classical Mythology</td>\n",
              "      <td>Mark P. O. Morford</td>\n",
              "      <td>2002</td>\n",
              "      <td>Oxford University Press</td>\n",
              "      <td>http://images.amazon.com/images/P/0195153448.0...</td>\n",
              "      <td>http://images.amazon.com/images/P/0195153448.0...</td>\n",
              "      <td>http://images.amazon.com/images/P/0195153448.0...</td>\n",
              "    </tr>\n",
              "    <tr>\n",
              "      <th>1</th>\n",
              "      <td>0002005018</td>\n",
              "      <td>Clara Callan</td>\n",
              "      <td>Richard Bruce Wright</td>\n",
              "      <td>2001</td>\n",
              "      <td>HarperFlamingo Canada</td>\n",
              "      <td>http://images.amazon.com/images/P/0002005018.0...</td>\n",
              "      <td>http://images.amazon.com/images/P/0002005018.0...</td>\n",
              "      <td>http://images.amazon.com/images/P/0002005018.0...</td>\n",
              "    </tr>\n",
              "    <tr>\n",
              "      <th>2</th>\n",
              "      <td>0060973129</td>\n",
              "      <td>Decision in Normandy</td>\n",
              "      <td>Carlo D'Este</td>\n",
              "      <td>1991</td>\n",
              "      <td>HarperPerennial</td>\n",
              "      <td>http://images.amazon.com/images/P/0060973129.0...</td>\n",
              "      <td>http://images.amazon.com/images/P/0060973129.0...</td>\n",
              "      <td>http://images.amazon.com/images/P/0060973129.0...</td>\n",
              "    </tr>\n",
              "    <tr>\n",
              "      <th>3</th>\n",
              "      <td>0374157065</td>\n",
              "      <td>Flu: The Story of the Great Influenza Pandemic...</td>\n",
              "      <td>Gina Bari Kolata</td>\n",
              "      <td>1999</td>\n",
              "      <td>Farrar Straus Giroux</td>\n",
              "      <td>http://images.amazon.com/images/P/0374157065.0...</td>\n",
              "      <td>http://images.amazon.com/images/P/0374157065.0...</td>\n",
              "      <td>http://images.amazon.com/images/P/0374157065.0...</td>\n",
              "    </tr>\n",
              "    <tr>\n",
              "      <th>4</th>\n",
              "      <td>0393045218</td>\n",
              "      <td>The Mummies of Urumchi</td>\n",
              "      <td>E. J. W. Barber</td>\n",
              "      <td>1999</td>\n",
              "      <td>W. W. Norton &amp;amp; Company</td>\n",
              "      <td>http://images.amazon.com/images/P/0393045218.0...</td>\n",
              "      <td>http://images.amazon.com/images/P/0393045218.0...</td>\n",
              "      <td>http://images.amazon.com/images/P/0393045218.0...</td>\n",
              "    </tr>\n",
              "  </tbody>\n",
              "</table>\n",
              "</div>\n",
              "    <div class=\"colab-df-buttons\">\n",
              "\n",
              "  <div class=\"colab-df-container\">\n",
              "    <button class=\"colab-df-convert\" onclick=\"convertToInteractive('df-bf73c101-8bc4-4f76-a9f5-9ab1877aecae')\"\n",
              "            title=\"Convert this dataframe to an interactive table.\"\n",
              "            style=\"display:none;\">\n",
              "\n",
              "  <svg xmlns=\"http://www.w3.org/2000/svg\" height=\"24px\" viewBox=\"0 -960 960 960\">\n",
              "    <path d=\"M120-120v-720h720v720H120Zm60-500h600v-160H180v160Zm220 220h160v-160H400v160Zm0 220h160v-160H400v160ZM180-400h160v-160H180v160Zm440 0h160v-160H620v160ZM180-180h160v-160H180v160Zm440 0h160v-160H620v160Z\"/>\n",
              "  </svg>\n",
              "    </button>\n",
              "\n",
              "  <style>\n",
              "    .colab-df-container {\n",
              "      display:flex;\n",
              "      gap: 12px;\n",
              "    }\n",
              "\n",
              "    .colab-df-convert {\n",
              "      background-color: #E8F0FE;\n",
              "      border: none;\n",
              "      border-radius: 50%;\n",
              "      cursor: pointer;\n",
              "      display: none;\n",
              "      fill: #1967D2;\n",
              "      height: 32px;\n",
              "      padding: 0 0 0 0;\n",
              "      width: 32px;\n",
              "    }\n",
              "\n",
              "    .colab-df-convert:hover {\n",
              "      background-color: #E2EBFA;\n",
              "      box-shadow: 0px 1px 2px rgba(60, 64, 67, 0.3), 0px 1px 3px 1px rgba(60, 64, 67, 0.15);\n",
              "      fill: #174EA6;\n",
              "    }\n",
              "\n",
              "    .colab-df-buttons div {\n",
              "      margin-bottom: 4px;\n",
              "    }\n",
              "\n",
              "    [theme=dark] .colab-df-convert {\n",
              "      background-color: #3B4455;\n",
              "      fill: #D2E3FC;\n",
              "    }\n",
              "\n",
              "    [theme=dark] .colab-df-convert:hover {\n",
              "      background-color: #434B5C;\n",
              "      box-shadow: 0px 1px 3px 1px rgba(0, 0, 0, 0.15);\n",
              "      filter: drop-shadow(0px 1px 2px rgba(0, 0, 0, 0.3));\n",
              "      fill: #FFFFFF;\n",
              "    }\n",
              "  </style>\n",
              "\n",
              "    <script>\n",
              "      const buttonEl =\n",
              "        document.querySelector('#df-bf73c101-8bc4-4f76-a9f5-9ab1877aecae button.colab-df-convert');\n",
              "      buttonEl.style.display =\n",
              "        google.colab.kernel.accessAllowed ? 'block' : 'none';\n",
              "\n",
              "      async function convertToInteractive(key) {\n",
              "        const element = document.querySelector('#df-bf73c101-8bc4-4f76-a9f5-9ab1877aecae');\n",
              "        const dataTable =\n",
              "          await google.colab.kernel.invokeFunction('convertToInteractive',\n",
              "                                                    [key], {});\n",
              "        if (!dataTable) return;\n",
              "\n",
              "        const docLinkHtml = 'Like what you see? Visit the ' +\n",
              "          '<a target=\"_blank\" href=https://colab.research.google.com/notebooks/data_table.ipynb>data table notebook</a>'\n",
              "          + ' to learn more about interactive tables.';\n",
              "        element.innerHTML = '';\n",
              "        dataTable['output_type'] = 'display_data';\n",
              "        await google.colab.output.renderOutput(dataTable, element);\n",
              "        const docLink = document.createElement('div');\n",
              "        docLink.innerHTML = docLinkHtml;\n",
              "        element.appendChild(docLink);\n",
              "      }\n",
              "    </script>\n",
              "  </div>\n",
              "\n",
              "\n",
              "<div id=\"df-28617540-6ddd-443b-b0ff-9915f1b6d2df\">\n",
              "  <button class=\"colab-df-quickchart\" onclick=\"quickchart('df-28617540-6ddd-443b-b0ff-9915f1b6d2df')\"\n",
              "            title=\"Suggest charts\"\n",
              "            style=\"display:none;\">\n",
              "\n",
              "<svg xmlns=\"http://www.w3.org/2000/svg\" height=\"24px\"viewBox=\"0 0 24 24\"\n",
              "     width=\"24px\">\n",
              "    <g>\n",
              "        <path d=\"M19 3H5c-1.1 0-2 .9-2 2v14c0 1.1.9 2 2 2h14c1.1 0 2-.9 2-2V5c0-1.1-.9-2-2-2zM9 17H7v-7h2v7zm4 0h-2V7h2v10zm4 0h-2v-4h2v4z\"/>\n",
              "    </g>\n",
              "</svg>\n",
              "  </button>\n",
              "\n",
              "<style>\n",
              "  .colab-df-quickchart {\n",
              "      --bg-color: #E8F0FE;\n",
              "      --fill-color: #1967D2;\n",
              "      --hover-bg-color: #E2EBFA;\n",
              "      --hover-fill-color: #174EA6;\n",
              "      --disabled-fill-color: #AAA;\n",
              "      --disabled-bg-color: #DDD;\n",
              "  }\n",
              "\n",
              "  [theme=dark] .colab-df-quickchart {\n",
              "      --bg-color: #3B4455;\n",
              "      --fill-color: #D2E3FC;\n",
              "      --hover-bg-color: #434B5C;\n",
              "      --hover-fill-color: #FFFFFF;\n",
              "      --disabled-bg-color: #3B4455;\n",
              "      --disabled-fill-color: #666;\n",
              "  }\n",
              "\n",
              "  .colab-df-quickchart {\n",
              "    background-color: var(--bg-color);\n",
              "    border: none;\n",
              "    border-radius: 50%;\n",
              "    cursor: pointer;\n",
              "    display: none;\n",
              "    fill: var(--fill-color);\n",
              "    height: 32px;\n",
              "    padding: 0;\n",
              "    width: 32px;\n",
              "  }\n",
              "\n",
              "  .colab-df-quickchart:hover {\n",
              "    background-color: var(--hover-bg-color);\n",
              "    box-shadow: 0 1px 2px rgba(60, 64, 67, 0.3), 0 1px 3px 1px rgba(60, 64, 67, 0.15);\n",
              "    fill: var(--button-hover-fill-color);\n",
              "  }\n",
              "\n",
              "  .colab-df-quickchart-complete:disabled,\n",
              "  .colab-df-quickchart-complete:disabled:hover {\n",
              "    background-color: var(--disabled-bg-color);\n",
              "    fill: var(--disabled-fill-color);\n",
              "    box-shadow: none;\n",
              "  }\n",
              "\n",
              "  .colab-df-spinner {\n",
              "    border: 2px solid var(--fill-color);\n",
              "    border-color: transparent;\n",
              "    border-bottom-color: var(--fill-color);\n",
              "    animation:\n",
              "      spin 1s steps(1) infinite;\n",
              "  }\n",
              "\n",
              "  @keyframes spin {\n",
              "    0% {\n",
              "      border-color: transparent;\n",
              "      border-bottom-color: var(--fill-color);\n",
              "      border-left-color: var(--fill-color);\n",
              "    }\n",
              "    20% {\n",
              "      border-color: transparent;\n",
              "      border-left-color: var(--fill-color);\n",
              "      border-top-color: var(--fill-color);\n",
              "    }\n",
              "    30% {\n",
              "      border-color: transparent;\n",
              "      border-left-color: var(--fill-color);\n",
              "      border-top-color: var(--fill-color);\n",
              "      border-right-color: var(--fill-color);\n",
              "    }\n",
              "    40% {\n",
              "      border-color: transparent;\n",
              "      border-right-color: var(--fill-color);\n",
              "      border-top-color: var(--fill-color);\n",
              "    }\n",
              "    60% {\n",
              "      border-color: transparent;\n",
              "      border-right-color: var(--fill-color);\n",
              "    }\n",
              "    80% {\n",
              "      border-color: transparent;\n",
              "      border-right-color: var(--fill-color);\n",
              "      border-bottom-color: var(--fill-color);\n",
              "    }\n",
              "    90% {\n",
              "      border-color: transparent;\n",
              "      border-bottom-color: var(--fill-color);\n",
              "    }\n",
              "  }\n",
              "</style>\n",
              "\n",
              "  <script>\n",
              "    async function quickchart(key) {\n",
              "      const quickchartButtonEl =\n",
              "        document.querySelector('#' + key + ' button');\n",
              "      quickchartButtonEl.disabled = true;  // To prevent multiple clicks.\n",
              "      quickchartButtonEl.classList.add('colab-df-spinner');\n",
              "      try {\n",
              "        const charts = await google.colab.kernel.invokeFunction(\n",
              "            'suggestCharts', [key], {});\n",
              "      } catch (error) {\n",
              "        console.error('Error during call to suggestCharts:', error);\n",
              "      }\n",
              "      quickchartButtonEl.classList.remove('colab-df-spinner');\n",
              "      quickchartButtonEl.classList.add('colab-df-quickchart-complete');\n",
              "    }\n",
              "    (() => {\n",
              "      let quickchartButtonEl =\n",
              "        document.querySelector('#df-28617540-6ddd-443b-b0ff-9915f1b6d2df button');\n",
              "      quickchartButtonEl.style.display =\n",
              "        google.colab.kernel.accessAllowed ? 'block' : 'none';\n",
              "    })();\n",
              "  </script>\n",
              "</div>\n",
              "\n",
              "    </div>\n",
              "  </div>\n"
            ],
            "application/vnd.google.colaboratory.intrinsic+json": {
              "type": "dataframe",
              "variable_name": "books"
            }
          },
          "metadata": {},
          "execution_count": 66
        }
      ]
    },
    {
      "cell_type": "code",
      "execution_count": null,
      "metadata": {
        "id": "Q34iXAs_rw0D",
        "colab": {
          "base_uri": "https://localhost:8080/"
        },
        "outputId": "007c7e97-3e92-488b-9a79-e11de9b2c68f"
      },
      "outputs": [
        {
          "output_type": "stream",
          "name": "stdout",
          "text": [
            "1149780 271360\n",
            "              ISBN                                         Book-Title  \\\n",
            "215952  0971880107                                        Wild Animus   \n",
            "38570   0316666343                          The Lovely Bones: A Novel   \n",
            "70798   0385504209                                  The Da Vinci Code   \n",
            "7344    0060928336    Divine Secrets of the Ya-Ya Sisterhood: A Novel   \n",
            "32370   0312195516                The Red Tent (Bestselling Backlist)   \n",
            "87397   044023722X                                    A Painted House   \n",
            "21342   0142001740                            The Secret Life of Bees   \n",
            "145042  067976402X                             Snow Falling on Cedars   \n",
            "133142  0671027360                                Angels &amp; Demons   \n",
            "93847   0446672211  Where the Heart Is (Oprah's Book Club (Paperba...   \n",
            "\n",
            "        rating_count  \n",
            "215952          2502  \n",
            "38570           1295  \n",
            "70798            883  \n",
            "7344             732  \n",
            "32370            723  \n",
            "87397            647  \n",
            "21342            615  \n",
            "145042           614  \n",
            "133142           586  \n",
            "93847            585  \n"
          ]
        }
      ],
      "source": [
        "# TODO: Answer the following questions:\n",
        "\n",
        "# How many ratings and how many books are there in the dataset\n",
        "print(len(ratings), len(books))\n",
        "\n",
        "# Find the top 10 books have received the highest count of ratings. You should output the id of the book, its title, and the count of ratings received.\n",
        "top_books = ratings.groupby('ISBN').size().reset_index(name='rating_count')\n",
        "top_books = pd.merge(top_books, books[['ISBN', 'Book-Title']], on='ISBN')\n",
        "top_books = top_books.sort_values('rating_count', ascending=False).head(10)\n",
        "\n",
        "print(top_books[['ISBN', 'Book-Title', 'rating_count']])"
      ]
    },
    {
      "cell_type": "code",
      "execution_count": null,
      "metadata": {
        "id": "U4IFExALsZM1"
      },
      "outputs": [],
      "source": [
        "# TODO: Important - You may not be able use the whole dataset for model creation, so you need to create a\n",
        "# smaller sample to proceeed further\n",
        "# Here is what I did:\n",
        "ratings_short = ratings.sample(n = 1000, random_state = 42)\n",
        "# you can try larger values of n, if the system allows you."
      ]
    },
    {
      "cell_type": "code",
      "execution_count": null,
      "metadata": {
        "id": "-4lAFc8iwBmB"
      },
      "outputs": [],
      "source": [
        "# TODO: Use the data to create a custom dataset in the surprise library\n",
        "# Steps to do this are: https://surprise.readthedocs.io/en/stable/getting_started.html#use-a-custom-dataset\n",
        "import os\n",
        "from surprise import Dataset, NormalPredictor, Reader\n",
        "\n",
        "reader = Reader(rating_scale=(1, 10))\n",
        "data = Dataset.load_from_df(ratings_short[['User-ID', 'ISBN', 'Book-Rating']], reader)"
      ]
    },
    {
      "cell_type": "code",
      "execution_count": null,
      "metadata": {
        "id": "5C1mn_LuwNtR",
        "colab": {
          "base_uri": "https://localhost:8080/"
        },
        "outputId": "6b0feaa6-0111-4122-bc23-7e5b8aafc459"
      },
      "outputs": [
        {
          "output_type": "stream",
          "name": "stdout",
          "text": [
            "Estimating biases using als...\n",
            "Computing the pearson_baseline similarity matrix...\n",
            "Done computing similarity matrix.\n",
            "Nearest neighbors of Wild Animus:\n",
            "Windmills of the Gods\n",
            "The Ominous Parallels: The End of Freedom in America\n",
            "Der Kaiser von Amerika.\n",
            "FACE ON/MILK CARTON\n",
            "Suzanne's Diary for Nicholas\n",
            "Death on the Downs: A Fethering Mystery (Fethering Mystery)\n",
            "Folktale Cat\n",
            "Chapterhouse Dune (Dune Chronicles, Book 6)\n",
            "This Pen for Hire: A Jaine Austen Mystery (Levine, Laura, Jaine Austen Mystery.)\n",
            "Facets\n"
          ]
        }
      ],
      "source": [
        "# TODO: Choose a book at random and use the KNNBasic algorithm to find out its 10 closest neighbors. Do the results make\n",
        "# sense?\n",
        "from surprise import KNNBasic\n",
        "from surprise.model_selection import train_test_split\n",
        "\n",
        "sim_options = {'name': 'pearson_baseline', 'user_based': False, 'shrinkage': 10}\n",
        "trainset, testset = train_test_split(data, test_size=0.25)\n",
        "\n",
        "algo = KNNBasic(sim_options=sim_options)\n",
        "algo.fit(trainset)\n",
        "\n",
        "random_id = '0971880107'\n",
        "\n",
        "inner_id = algo.trainset.to_inner_iid(random_id)\n",
        "neighbours = algo.get_neighbors(inner_id, k=10)\n",
        "neighbours_raw_ids = [algo.trainset.to_raw_iid(inner_id) for inner_id in neighbours]\n",
        "\n",
        "neighbor_titles = []\n",
        "for raw_id in neighbours_raw_ids:\n",
        "    title_series = books.loc[books['ISBN'] == raw_id, 'Book-Title']\n",
        "    if not title_series.empty:\n",
        "        neighbor_titles.append(title_series.iloc[0])\n",
        "    else:\n",
        "        neighbor_titles.append(\"Unknown\")  # Append a placeholder\n",
        "\n",
        "print(f\"Nearest neighbors of {books.loc[books['ISBN'] == random_id, 'Book-Title'].iloc[0]}:\")\n",
        "for title in neighbour_titles:\n",
        "    print(title)\n"
      ]
    },
    {
      "cell_type": "code",
      "execution_count": null,
      "metadata": {
        "id": "fZGB7wKwxO6q",
        "colab": {
          "base_uri": "https://localhost:8080/"
        },
        "outputId": "1ce4df88-6a0a-4112-8068-94e7c883f9a2"
      },
      "outputs": [
        {
          "output_type": "stream",
          "name": "stdout",
          "text": [
            "KNNBaseline:\n",
            "Estimating biases using als...\n",
            "Computing the pearson_baseline similarity matrix...\n",
            "Done computing similarity matrix.\n",
            "Estimating biases using als...\n",
            "Computing the pearson_baseline similarity matrix...\n",
            "Done computing similarity matrix.\n",
            "Estimating biases using als...\n",
            "Computing the pearson_baseline similarity matrix...\n",
            "Done computing similarity matrix.\n",
            "Estimating biases using als...\n",
            "Computing the pearson_baseline similarity matrix...\n",
            "Done computing similarity matrix.\n",
            "Estimating biases using als...\n",
            "Computing the pearson_baseline similarity matrix...\n",
            "Done computing similarity matrix.\n",
            "Estimating biases using als...\n",
            "Computing the pearson_baseline similarity matrix...\n",
            "Done computing similarity matrix.\n",
            "Estimating biases using als...\n",
            "Computing the pearson_baseline similarity matrix...\n",
            "Done computing similarity matrix.\n",
            "Estimating biases using als...\n",
            "Computing the pearson_baseline similarity matrix...\n",
            "Done computing similarity matrix.\n",
            "Estimating biases using als...\n",
            "Computing the pearson_baseline similarity matrix...\n",
            "Done computing similarity matrix.\n",
            "Best RMSE: 3.746886391358228\n",
            "Best Parameters: {'k': 20, 'sim_options': {'name': 'pearson_baseline', 'user_based': False}}\n",
            "ALS Baseline:\n",
            "Estimating biases using als...\n",
            "Estimating biases using als...\n",
            "Estimating biases using als...\n",
            "Estimating biases using als...\n",
            "Estimating biases using als...\n",
            "Estimating biases using als...\n",
            "Estimating biases using als...\n",
            "Estimating biases using als...\n",
            "Estimating biases using als...\n",
            "Estimating biases using als...\n",
            "Estimating biases using als...\n",
            "Estimating biases using als...\n",
            "Estimating biases using als...\n",
            "Estimating biases using als...\n",
            "Estimating biases using als...\n",
            "Estimating biases using als...\n",
            "Estimating biases using als...\n",
            "Estimating biases using als...\n",
            "Estimating biases using als...\n",
            "Estimating biases using als...\n",
            "Estimating biases using als...\n",
            "Estimating biases using als...\n",
            "Estimating biases using als...\n",
            "Estimating biases using als...\n",
            "Estimating biases using als...\n",
            "Estimating biases using als...\n",
            "Estimating biases using als...\n",
            "Estimating biases using als...\n",
            "Estimating biases using als...\n",
            "Estimating biases using als...\n",
            "Estimating biases using als...\n",
            "Estimating biases using als...\n",
            "Estimating biases using als...\n",
            "Estimating biases using als...\n",
            "Estimating biases using als...\n",
            "Estimating biases using als...\n",
            "Estimating biases using als...\n",
            "Estimating biases using als...\n",
            "Estimating biases using als...\n",
            "Estimating biases using als...\n",
            "Estimating biases using als...\n",
            "Estimating biases using als...\n",
            "Estimating biases using als...\n",
            "Estimating biases using als...\n",
            "Estimating biases using als...\n",
            "Estimating biases using als...\n",
            "Estimating biases using als...\n",
            "Estimating biases using als...\n",
            "Estimating biases using als...\n",
            "Estimating biases using als...\n",
            "Estimating biases using als...\n",
            "Estimating biases using als...\n",
            "Estimating biases using als...\n",
            "Estimating biases using als...\n",
            "Estimating biases using als...\n",
            "Estimating biases using als...\n",
            "Estimating biases using als...\n",
            "Estimating biases using als...\n",
            "Estimating biases using als...\n",
            "Estimating biases using als...\n",
            "Estimating biases using als...\n",
            "Estimating biases using als...\n",
            "Estimating biases using als...\n",
            "Estimating biases using als...\n",
            "Estimating biases using als...\n",
            "Estimating biases using als...\n",
            "Estimating biases using als...\n",
            "Estimating biases using als...\n",
            "Estimating biases using als...\n",
            "Estimating biases using als...\n",
            "Estimating biases using als...\n",
            "Estimating biases using als...\n",
            "Estimating biases using als...\n",
            "Estimating biases using als...\n",
            "Estimating biases using als...\n",
            "Estimating biases using als...\n",
            "Estimating biases using als...\n",
            "Estimating biases using als...\n",
            "Estimating biases using als...\n",
            "Estimating biases using als...\n",
            "Estimating biases using als...\n",
            "Best RMSE: 3.728935844745225\n",
            "Best Parameters: {'bsl_options': {'method': 'als', 'n_epochs': 10, 'reg_u': 5, 'reg_i': 15}}\n",
            "SVD:\n",
            "Best RMSE: 3.7227641727931498\n",
            "Best Parameters: {'n_factors': 50, 'n_epochs': 30, 'reg_all': 0.02}\n",
            "Cross-validation Results:\n",
            "Estimating biases using als...\n",
            "Computing the pearson_baseline similarity matrix...\n",
            "Done computing similarity matrix.\n",
            "Estimating biases using als...\n",
            "Computing the pearson_baseline similarity matrix...\n",
            "Done computing similarity matrix.\n",
            "Estimating biases using als...\n",
            "Computing the pearson_baseline similarity matrix...\n",
            "Done computing similarity matrix.\n",
            "Evaluating RMSE of algorithm KNNBaseline on 3 split(s).\n",
            "\n",
            "                  Fold 1  Fold 2  Fold 3  Mean    Std     \n",
            "RMSE (testset)    3.8347  3.7221  3.6911  3.7493  0.0617  \n",
            "Fit time          0.01    0.01    0.01    0.01    0.00    \n",
            "Test time         0.00    0.00    0.00    0.00    0.00    \n",
            "Mean RMSE for KNNBaseline: 3.749280991130472\n",
            "Estimating biases using als...\n",
            "Estimating biases using als...\n",
            "Estimating biases using als...\n",
            "Evaluating RMSE of algorithm BaselineOnly on 3 split(s).\n",
            "\n",
            "                  Fold 1  Fold 2  Fold 3  Mean    Std     \n",
            "RMSE (testset)    3.8091  3.7322  3.6572  3.7328  0.0620  \n",
            "Fit time          0.00    0.00    0.00    0.00    0.00    \n",
            "Test time         0.00    0.00    0.00    0.00    0.00    \n",
            "Mean RMSE for ALS Baseline: 3.732808397841166\n",
            "Evaluating RMSE of algorithm SVD on 3 split(s).\n",
            "\n",
            "                  Fold 1  Fold 2  Fold 3  Mean    Std     \n",
            "RMSE (testset)    3.6841  3.7644  3.7544  3.7343  0.0357  \n",
            "Fit time          0.01    0.01    0.01    0.01    0.00    \n",
            "Test time         0.00    0.00    0.00    0.00    0.00    \n",
            "Mean RMSE for SVD: 3.734335919201443\n"
          ]
        }
      ],
      "source": [
        "from surprise import SVD, KNNBaseline, BaselineOnly\n",
        "from surprise.model_selection import GridSearchCV, cross_validate, train_test_split\n",
        "from surprise import Dataset\n",
        "from surprise import Reader\n",
        "\n",
        "# KNNBaseline\n",
        "param_grid_knn = {\n",
        "    'k': [20, 30, 40],\n",
        "    'sim_options': {\n",
        "        'name': ['pearson_baseline'],\n",
        "        'user_based': [False]\n",
        "    },\n",
        "}\n",
        "\n",
        "# ALS Baseline\n",
        "param_grid_als = {\n",
        "    'bsl_options': {\n",
        "        'method': ['als'],\n",
        "        'n_epochs': [5, 10, 15],\n",
        "        'reg_u': [5, 10, 15],\n",
        "        'reg_i': [5, 10, 15],\n",
        "    }\n",
        "}\n",
        "\n",
        "# SVD Baseline\n",
        "param_grid_svd = {\n",
        "    'n_factors': [50, 100, 150],\n",
        "    'n_epochs': [20, 30],\n",
        "    'reg_all': [0.02, 0.05, 0.1],\n",
        "}\n",
        "\n",
        "# Running GridSearchCV for KNNBaseline\n",
        "print(\"KNNBaseline:\")\n",
        "grid_search_knn = GridSearchCV(KNNBaseline, param_grid_knn, measures=['rmse'], cv=3)\n",
        "grid_search_knn.fit(data)\n",
        "print(f\"Best RMSE: {grid_search_knn.best_score['rmse']}\")\n",
        "print(f\"Best Parameters: {grid_search_knn.best_params['rmse']}\")\n",
        "\n",
        "# Running GridSearchCV for ALS\n",
        "print(\"ALS Baseline:\")\n",
        "grid_search_als = GridSearchCV(BaselineOnly, param_grid_als, measures=['rmse'], cv=3)\n",
        "grid_search_als.fit(data)\n",
        "print(f\"Best RMSE: {grid_search_als.best_score['rmse']}\")\n",
        "print(f\"Best Parameters: {grid_search_als.best_params['rmse']}\")\n",
        "\n",
        "# Running GridSearchCV for SVD\n",
        "print(\"SVD:\")\n",
        "grid_search_svd = GridSearchCV(SVD, param_grid_svd, measures=['rmse'], cv=3)\n",
        "grid_search_svd.fit(data)\n",
        "print(f\"Best RMSE: {grid_search_svd.best_score['rmse']}\")\n",
        "print(f\"Best Parameters: {grid_search_svd.best_params['rmse']}\")\n",
        "\n",
        "print(\"Cross-validation Results:\")\n",
        "models = [KNNBaseline, BaselineOnly, SVD]\n",
        "model_names = ['KNNBaseline', 'ALS Baseline', 'SVD']\n",
        "\n",
        "for model, name in zip(models, model_names):\n",
        "    if name == 'KNNBaseline':\n",
        "        model_instance = KNNBaseline(k=grid_search_knn.best_params['rmse']['k'],\n",
        "                                     sim_options=grid_search_knn.best_params['rmse']['sim_options'])\n",
        "    elif name == 'ALS Baseline':\n",
        "        model_instance = BaselineOnly(bsl_options=grid_search_als.best_params['rmse']['bsl_options'])\n",
        "    elif name == 'SVD':\n",
        "        model_instance = SVD(n_factors=grid_search_svd.best_params['rmse']['n_factors'],\n",
        "                             n_epochs=grid_search_svd.best_params['rmse']['n_epochs'],\n",
        "                             reg_all=grid_search_svd.best_params['rmse']['reg_all'])\n",
        "\n",
        "    # Perform cross-validation to compare mean RMSE scores\n",
        "    cv_results = cross_validate(model_instance, data, measures=['rmse'], cv=3, verbose=True)\n",
        "    print(f\"Mean RMSE for {name}: {cv_results['test_rmse'].mean()}\")\n"
      ]
    }
  ],
  "metadata": {
    "accelerator": "TPU",
    "colab": {
      "gpuType": "V28",
      "provenance": [],
      "include_colab_link": true
    },
    "kernelspec": {
      "display_name": "Python 3",
      "name": "python3"
    },
    "language_info": {
      "name": "python"
    }
  },
  "nbformat": 4,
  "nbformat_minor": 0
}